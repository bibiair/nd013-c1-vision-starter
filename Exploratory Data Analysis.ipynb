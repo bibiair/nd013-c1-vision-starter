{
 "cells": [
  {
   "cell_type": "markdown",
   "metadata": {},
   "source": [
    "# Explore the dataset\n",
    "\n",
    "\n",
    "In this notebook, we will perform an EDA (Exploratory Data Analysis) on the processed Waymo dataset (data in the `processed` folder). In the first part, you will create a function to display "
   ]
  },
  {
   "cell_type": "code",
   "execution_count": 17,
   "metadata": {},
   "outputs": [],
   "source": [
    "\n",
    "from utils import get_dataset\n",
    "import glob\n",
    "import matplotlib.pyplot as plt\n",
    "import matplotlib.patches as patches\n",
    "import numpy as np\n",
    "import tensorflow as tf\n",
    "\n",
    "\n",
    "%matplotlib inline"
   ]
  },
  {
   "cell_type": "code",
   "execution_count": null,
   "metadata": {},
   "outputs": [],
   "source": [
    "dataset = get_dataset(\"dataset/*.tfrecord\")"
   ]
  },
  {
   "cell_type": "markdown",
   "metadata": {},
   "source": [
    "## Write a function to display an image and the bounding boxes\n",
    "\n",
    "Implement the `display_instances` function below. This function takes a batch as an input and display an image with its corresponding bounding boxes. The only requirement is that the classes should be color coded (eg, vehicles in red, pedestrians in blue, cyclist in green)."
   ]
  },
  {
   "cell_type": "code",
   "execution_count": null,
   "metadata": {},
   "outputs": [],
   "source": [
    "def display_images(batch):\n",
    "    # TODO - Your implementation here\n",
    "    import matplotlib as mpl\n",
    "    mpl.use(\"TkAgg\")\n",
    "    fig, ax = plt.subplots(2,5,figsize = (20,10))\n",
    "    for idx, data in enumerate(batch):\n",
    "        if idx == 10:\n",
    "            break\n",
    "        img = data[\"image\"].numpy()\n",
    "        ax[int(idx/5), idx%5].imshow(img)\n",
    "        BoxAndClass = zip(data[\"groundtruth_boxes\"], data[\"groundtruth_classes\"])\n",
    "        for box, cl in BoxAndClass:\n",
    "            box = box.numpy()*640\n",
    "            cl = tf.squeeze(cl)\n",
    "            y1, x1 = box[:2]\n",
    "            y2, x2 = box[2:4]\n",
    "            if cl == 1:\n",
    "                color = 'red'\n",
    "            elif cl == 2:\n",
    "                color = 'blue'\n",
    "            elif cl == 4:\n",
    "                color = 'green'\n",
    "            rect = patches.Rectangle((x1,y1),x2-x1,y2-y1, linewidth = 2, edgecolor  = color, fill= False)\n",
    "            ax[int(idx/5), idx%5].add_patch(rect)\n",
    "    fig.tight_layout(pad = 0.5)\n",
    "    plt.show()"
   ]
  },
  {
   "cell_type": "markdown",
   "metadata": {},
   "source": [
    "## Display 10 images \n",
    "\n",
    "Using the dataset created in the second cell and the function you just coded, display 10 random images with the associated bounding boxes. You can use the methods `take` and `shuffle` on the dataset."
   ]
  },
  {
   "cell_type": "code",
   "execution_count": null,
   "metadata": {},
   "outputs": [],
   "source": [
    "    \n",
    "# Display 10 random images in dataset\n",
    "dataset = dataset.shuffle(buffer_size = 100)\n",
    "display_images(dataset)\n",
    "\n",
    "\n",
    "\n",
    "\n"
   ]
  },
  {
   "cell_type": "markdown",
   "metadata": {},
   "source": [
    "## Additional EDA\n",
    "\n",
    "In this last part, you are free to perform any additional analysis of the dataset. What else would like to know about the data?\n",
    "For example, think about data distribution. So far, you have only looked at a single file..."
   ]
  },
  {
   "cell_type": "code",
   "execution_count": null,
   "metadata": {},
   "outputs": [],
   "source": []
  }
 ],
 "metadata": {
  "kernelspec": {
   "display_name": "Python 3",
   "language": "python",
   "name": "python3"
  },
  "language_info": {
   "codemirror_mode": {
    "name": "ipython",
    "version": 3
   },
   "file_extension": ".py",
   "mimetype": "text/x-python",
   "name": "python",
   "nbconvert_exporter": "python",
   "pygments_lexer": "ipython3",
   "version": "3.9.6"
  }
 },
 "nbformat": 4,
 "nbformat_minor": 4
}
