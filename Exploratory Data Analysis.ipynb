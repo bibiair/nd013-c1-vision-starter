{
 "cells": [
  {
   "cell_type": "markdown",
   "metadata": {},
   "source": [
    "# Explore the dataset\n",
    "\n",
    "\n",
    "In this notebook, we will perform an EDA (Exploratory Data Analysis) on the processed Waymo dataset (data in the `processed` folder). In the first part, you will create a function to display "
   ]
  },
  {
   "cell_type": "code",
   "execution_count": 1,
   "metadata": {},
   "outputs": [],
   "source": [
    "from utils import get_dataset\n",
    "import glob\n",
    "import matplotlib.pyplot as plt\n",
    "import matplotlib.patches as patches\n",
    "import numpy as np\n",
    "import tensorflow as tf\n",
    "\n",
    "\n",
    "%matplotlib inline"
   ]
  },
  {
   "cell_type": "code",
   "execution_count": 3,
   "metadata": {},
   "outputs": [
    {
     "name": "stdout",
     "output_type": "stream",
     "text": [
      "INFO:tensorflow:Reading unweighted datasets: ['data/train/*.tfrecord']\n",
      "INFO:tensorflow:Reading record datasets for input file: ['data/train/*.tfrecord']\n",
      "INFO:tensorflow:Number of filenames to read: 86\n",
      "WARNING:tensorflow:From c:\\Users\\M\\AppData\\Local\\Programs\\Python\\Python310\\lib\\site-packages\\object_detection\\builders\\dataset_builder.py:100: parallel_interleave (from tensorflow.python.data.experimental.ops.interleave_ops) is deprecated and will be removed in a future version.\n",
      "Instructions for updating:\n",
      "Use `tf.data.Dataset.interleave(map_func, cycle_length, block_length, num_parallel_calls=tf.data.AUTOTUNE)` instead. If sloppy execution is desired, use `tf.data.Options.deterministic`.\n",
      "WARNING:tensorflow:From c:\\Users\\M\\AppData\\Local\\Programs\\Python\\Python310\\lib\\site-packages\\object_detection\\builders\\dataset_builder.py:235: DatasetV1.map_with_legacy_function (from tensorflow.python.data.ops.dataset_ops) is deprecated and will be removed in a future version.\n",
      "Instructions for updating:\n",
      "Use `tf.data.Dataset.map()\n"
     ]
    }
   ],
   "source": [
    "dataset = get_dataset(\"data/train/*.tfrecord\")\n"
   ]
  },
  {
   "cell_type": "markdown",
   "metadata": {},
   "source": [
    "## Write a function to display an image and the bounding boxes\n",
    "\n",
    "Implement the `display_instances` function below. This function takes a batch as an input and display an image with its corresponding bounding boxes. The only requirement is that the classes should be color coded (eg, vehicles in red, pedestrians in blue, cyclist in green)."
   ]
  },
  {
   "cell_type": "code",
   "execution_count": 16,
   "metadata": {},
   "outputs": [],
   "source": [
    "def display_images(batch,cls):\n",
    "    # TODO - Your implementation here\n",
    "    # import matplotlib as mpl\n",
    "    # mpl.use(TkAgg)\n",
    "    # fig, ax = plt.subplots(2,5,figsize = (20,10))\n",
    "    car = 0\n",
    "    ped = 0\n",
    "    cyc = 0\n",
    "    \n",
    "    for idx, data in enumerate(batch):\n",
    "        if idx == 10:\n",
    "            break\n",
    "        img = data[\"image\"].numpy()\n",
    "        # ax[int(idx/5), idx%5].imshow(img)\n",
    "        img_conf = data[\"groundtruth_image_confidences\"].numpy()\n",
    "        img_diff = data[\"groundtruth_difficult\"].numpy()\n",
    "        if len(img_diff) != 0 or len(img_conf) != 0 :\n",
    "            print(\"here\")\n",
    "        BoxAndClass = zip(data[\"groundtruth_boxes\"], data[\"groundtruth_classes\"])\n",
    "        for box, cl in BoxAndClass:\n",
    "            box = box.numpy()*640\n",
    "            cl = tf.squeeze(cl)\n",
    "            y1, x1 = box[:2]\n",
    "            y2, x2 = box[2:4]\n",
    "            cls.append(cl)\n",
    "            if cl == 1:\n",
    "                color = 'red'\n",
    "                car += 1\n",
    "            elif cl == 2:\n",
    "                color = 'blue'\n",
    "                ped += 1\n",
    "            elif cl == 4:\n",
    "                color = 'green'\n",
    "                cyc += 1\n",
    "            # rect = patches.Rectangle((x1,y1),x2-x1,y2-y1, linewidth = 2, edgecolor  = color, fill= False)\n",
    "            # ax[int(idx/5), idx%5].add_patch(rect)\n",
    "    # fig.tight_layout(pad = 0.5)\n",
    "\n",
    "    # plt.show()"
   ]
  },
  {
   "cell_type": "markdown",
   "metadata": {},
   "source": [
    "## Display 10 images \n",
    "\n",
    "Using the dataset created in the second cell and the function you just coded, display 10 random images with the associated bounding boxes. You can use the methods `take` and `shuffle` on the dataset."
   ]
  },
  {
   "cell_type": "code",
   "execution_count": 17,
   "metadata": {},
   "outputs": [
    {
     "data": {
      "image/png": "[encoded data removed]",
      "text/plain": [
       "<Figure size 640x480 with 1 Axes>"
      ]
     },
     "metadata": {},
     "output_type": "display_data"
    }
   ],
   "source": [
    "    \n",
    "# Display 10 random images in dataset\n",
    "dataset = dataset.shuffle(buffer_size = 100)\n",
    "cls = []\n",
    "display_images(dataset,cls)\n",
    "plt.hist(cls,bins=3,color='blue',edgecolor = 'black')\n",
    "plt.show()\n",
    "\n",
    "\n",
    "\n",
    "\n"
   ]
  },
  {
   "cell_type": "markdown",
   "metadata": {},
   "source": [
    "## Additional EDA\n",
    "\n",
    "In this last part, you are free to perform any additional analysis of the dataset. What else would like to know about the data?\n",
    "For example, think about data distribution. So far, you have only looked at a single file..."
   ]
  },
  {
   "cell_type": "code",
   "execution_count": null,
   "metadata": {},
   "outputs": [],
   "source": [
    "To train the model, I think shuffling of the dataset is a good idea.\n",
    "Because in waymo case, images in one tfrecord file are provided in chronological order.\n",
    "So it's crucial to shuffle images to diversify the dataset, augmenting learning performance.\n"
   ]
  }
 ],
 "metadata": {
  "kernelspec": {
   "display_name": "Python 3",
   "language": "python",
   "name": "python3"
  },
  "language_info": {
   "codemirror_mode": {
    "name": "ipython",
    "version": 3
   },
   "file_extension": ".py",
   "mimetype": "text/x-python",
   "name": "python",
   "nbconvert_exporter": "python",
   "pygments_lexer": "ipython3",
   "version": "3.10.2"
  },
  "vscode": {
   "interpreter": {
    "hash": "477491be73cb7b5c7058c12684c809d07aada01a2929cce9259cc3c709322229"
   }
  }
 },
 "nbformat": 4,
 "nbformat_minor": 4
}
